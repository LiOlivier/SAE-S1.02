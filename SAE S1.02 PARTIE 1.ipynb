{
 "cells": [
  {
   "cell_type": "markdown",
   "metadata": {
    "deletable": false,
    "editable": false
   },
   "source": [
    "# <center> Santa Claus needs you!</center>\n",
    "<center> SAE 1.01 / 2023 - 24 </center>\n",
    "\n"
   ]
  },
  {
   "cell_type": "markdown",
   "metadata": {
    "deletable": false,
    "editable": false
   },
   "source": [
    "**Attendus**\n",
    "\n",
    "Les attendus de cette SAE sont que vous appreniez à \n",
    "- respecter un cahier des charges ;\n",
    "- écrire un code de qualité : efficace, lisible, documenté et testé sauf quand il s'agit d'affichages, de saisies ou de tirages aléatoires ;\n",
    " - travailler en groupe sur un projet : cette SAE est à faire en **binôme**. Vous devez néanmoins comprendre et connaître la totalité de ce qui est produit par le binôme.\n",
    "\n",
    "\n",
    "**Calendrier**\n",
    "- Le projet est à rendre au plus tard le vendredi **10 novembre** 2023. Les modalités de rendu vous seront précisées par votre enseignant.\n",
    "- Un contrôle de 2h en lien avec le contenu de cette SAE aura lieu le vendredi **10 novembre** 2023.\n",
    "\n",
    "**Evaluation**\n",
    "- Le projet comptera pour 40% de la note de SAE 1.01. <BR>\n",
    "Il sera particulièrement tenu compte de la qualité du code, des **commentaires** et **docstrings**, des fonctions de **tests unitaires** pour les fonctions renvoyant des résultats. <BR><BR>\n",
    "    \n",
    "- Le contrôle compte pour 60% de la note finale."
   ]
  },
  {
   "cell_type": "markdown",
   "metadata": {
    "deletable": false,
    "editable": false
   },
   "source": [
    "## <center> Sujet </center>\n",
    "\n",
    "Le Père Noël se fait vieux, il a besoin d'aider pour organiser sa distribution de cadeaux. Il vous prend à l'essai...\n",
    "\n",
    "L'objectif est de chercher une tournée des villes minimisant la distance parcourue par les rennes du Père Noël."
   ]
  },
  {
   "cell_type": "markdown",
   "metadata": {
    "deletable": false,
    "editable": false
   },
   "source": [
    "On décide de stocker les données sur les villes à visiter dans un tableau `villes` de chaînes de caractères et de flottants contenant successivement une ville (sous forme d'une chaîne de caractères), sa longitude et sa latitude (des flottants) en dégrés décimaux (DD) de sorte que `villes[3*i]` a pour longitude  `villes[3*i+1]` et pour latitude `villes[3*i+2]`.\n",
    "\n",
    "On suppose que chaque ville n'est présente qu'une seule fois dans le tableau.\n",
    "\n",
    "**Exemple** : "
   ]
  },
  {
   "cell_type": "code",
   "execution_count": 1,
   "metadata": {
    "deletable": false,
    "editable": false,
    "scrolled": true
   },
   "outputs": [],
   "source": [
    "villes = [\"Paris\",2.33,48.86, \"Lyon\",4.85,45.75, \n",
    "          \"Marseille\", 5.40,43.30, \"Lille\",3.06,50.63, \n",
    "          \"Strasbourg\",7.75,48.57, \"Rennes\",-1.66,48.11, \n",
    "          \"Clermont-Ferrand\",3.08,45.77, \"Bordeaux\", -0.57, 44.83]\n"
   ]
  },
  {
   "cell_type": "markdown",
   "metadata": {
    "deletable": false,
    "editable": false
   },
   "source": [
    "Ainsi\n",
    "- Paris a une longitude de 2,33 DD et une latitude de 48,86 DD.\n",
    "- Rennes a une longitude de -1,66 DD et une latitude de 48,11 DD."
   ]
  },
  {
   "cell_type": "markdown",
   "metadata": {
    "deletable": false,
    "editable": false
   },
   "source": [
    "#### Question préliminaire : Représentation des villes par un tableau\n",
    "\n",
    "- Ajouter dans le tableau précédent Toulouse dont la longitude est 1,43 DD et la latitude est 43,60 DD, ainsi que Grenoble dont la longitude est 5,72 DD et la latitude est 45,18 DD."
   ]
  },
  {
   "cell_type": "code",
   "execution_count": 2,
   "metadata": {
    "scrolled": true
   },
   "outputs": [
    {
     "name": "stdout",
     "output_type": "stream",
     "text": [
      "['Paris', 2.33, 48.86, 'Lyon', 4.85, 45.75, 'Marseille', 5.4, 43.3, 'Lille', 3.06, 50.63, 'Strasbourg', 7.75, 48.57, 'Rennes', -1.66, 48.11, 'Clermont-Ferrand', 3.08, 45.77, 'Bordeaux', -0.57, 44.83, 'Toulouse', 1.43, 43.6, 'Grenoble', 5.72, 45.18]\n"
     ]
    }
   ],
   "source": [
    "          \n",
    "villes.append(\"Toulouse\")  #AJOUT DES VILLES DANS LE TABLEAU\n",
    "villes.append(1.43)\n",
    "villes.append(43.60)\n",
    "\n",
    "villes.append(\"Grenoble\")\n",
    "villes.append(5.72)\n",
    "villes.append(45.18)  \n",
    "print(villes) \n",
    "\n",
    "\n"
   ]
  },
  {
   "cell_type": "markdown",
   "metadata": {
    "deletable": false,
    "editable": false
   },
   "source": [
    "#### Question 1 : Nombre de villes à visiter\n",
    "\n",
    "- Étant donné un tableau `villes`, écrire une fonction `nb_villes(villes)` qui retourne le nombre de villes à visiter contenues dans le tableau `villes`. \n",
    "- Ecrire une fonction de tests unitaires permettant de vérifier cette fonction. "
   ]
  },
  {
   "cell_type": "code",
   "execution_count": 5,
   "metadata": {
    "scrolled": true
   },
   "outputs": [],
   "source": [
    "def nb_villes(villes): #CRÉATION DU NOMBRE DE VILLE À VISITER\n",
    "\n",
    "    i = 0\n",
    "    index = 0 \n",
    "    while index < len(villes):         \n",
    "        if type(villes[index]) == str:\n",
    "            i += 1\n",
    "        index += 1 \n",
    "        return i\n"
   ]
  },
  {
   "cell_type": "code",
   "execution_count": 6,
   "metadata": {},
   "outputs": [],
   "source": [
    "def test_nb_villes():\n",
    "    assert nb_villes([]) == 0\n",
    "    print(\"bon\")\n",
    "    assert nb_villes([\"Paris\", 48.8566, 2.3522]) == 1\n",
    "    print(\"bon\")\n",
    "    assert nb_villes([\"Toulouse\", 40.7128, -74.0060, \"Montpellier\", 34.0522, -118.2437]) ==2\n",
    "    print(\"bon\")\n",
    "    assert nb_villes([\"Perpignan\", 42.6886, 2.8949, \"Bayonne\", 43.4934, -1.4729]) == 2\n",
    "    print(\"bon\")\n",
    "\n",
    "    test_nb_villes()\n"
   ]
  },
  {
   "cell_type": "markdown",
   "metadata": {
    "deletable": false,
    "editable": false
   },
   "source": [
    "#### Question 2 : Tableaux des noms de villes à visiter\n",
    "\n",
    "- Étant donné un tableau `villes`, écrire une fonction `noms_villes(villes)` qui retourne le tableau des noms des villes à visiter contenues dans le tableau `villes`. \n",
    "- Ecrire une fonction de tests unitaires permettant de vérifier cette fonction. "
   ]
  },
  {
   "cell_type": "code",
   "execution_count": 7,
   "metadata": {
    "scrolled": true
   },
   "outputs": [],
   "source": [
    "#AJOUT DES NOM DES VILLES À VISITER DANS LE TABLEAU VILLE\n",
    "\n",
    "def noms_villes(villes):     \n",
    "    noms = []\n",
    "    index = 0\n",
    "    while index < len(villes):\n",
    "        if type(villes[index]) == str:\n",
    "            noms.append(villes[index])  #AJOUT TABLEAU \n",
    "        index += 1\n",
    "    return noms\n"
   ]
  },
  {
   "cell_type": "code",
   "execution_count": 8,
   "metadata": {},
   "outputs": [],
   "source": [
    "def test_noms_villes(): \n",
    "    assert noms_villes([]) == []\n",
    "    assert noms_villes([\"Paris\", 2.33, 48.86]) == [\"Paris\"]\n",
    "    assert noms_villes([\"Paris\", 2.33, 48.86, \"Lyon\", 4.85, 45.75]) == [\"Paris\", \"Lyon\"]\n",
    "    assert noms_villes([1, \"Marseille\", 5.40, 43.30, \"Lille\", 3.06, 50.63, \"Strasbourg\", 7.75, 48.57]) == [\"Marseille\", \"Lille\", \"Strasbourg\"]\n",
    "test_noms_villes()\n"
   ]
  },
  {
   "cell_type": "markdown",
   "metadata": {
    "deletable": false,
    "editable": false
   },
   "source": [
    "#### Question 3 : Distance entre deux villes repérées par leurs longitude et latitude\n",
    "\n",
    "Pour calculer la distance $d$ entre deux villes $V_1$ (de longitude $long1$ et de latitude $lat1$) et $V_2$ (de longitude $long2$ et de latitude $lat2$) à partir de leurs longitude et latitude, on peut utiliser la formule suivante :\n",
    "\n",
    "$d=R*arccos(sin(lat1)*sin(lat2)+cos(lat1)*cos(lat2)*cos(long2-long1))$\n",
    "\n",
    "où le rayon de la terre $R$ vaut 6370.7km et les latitudes et longitudes sont exprimées en radians (en non en degrés décimaux).\n",
    "Cela correspond à la méthode de calcul avec la loi des sinus décrite [ici](http://villemin.gerard.free.fr/aGeograp/Distance.htm) \n",
    "\n",
    "Par exemple, Paris et Marseille sont distantes de 661,86 km.\n",
    "\n",
    "- Ecrire une fonction `distance(long1,lat1,long2,lat2)` qui calcule et retourne la distance entre deux villes $V_1$ (de longitude `long1` et `lat1`) et $V_2$ (de `long2`et `lat2`).\n",
    "\n",
    "**NB** Les fonctions `sin`, `cos` et le nombre `pi` sont définis dans la bibliothèque `math`. La fonction `arcos` est définie dans la bibliothèque `numpy`.\n",
    "\n",
    "Pour **convertir des degrés en radians**, il faut multiplier par $\\pi/180$.\n",
    "\n",
    "\n",
    "- Ecrire une fonction de tests unitaire permettant de vérifier cette fonction."
   ]
  },
  {
   "cell_type": "code",
   "execution_count": 9,
   "metadata": {
    "scrolled": true
   },
   "outputs": [],
   "source": [
    "import math\n",
    "\n",
    "def distance(long1, lat1, long2, lat2):\n",
    "    R = 6370.7\n",
    "    lat1= math.radians(lat1)\n",
    "    lat2 = math.radians(lat2)\n",
    "    long1 = math.radians(long1)\n",
    "    long2 = math.radians(long2)\n",
    "    d = R*math.acos(math.sin(lat1)*math.sin(lat2)+math.cos(lat1)*math.cos(lat2)*math.cos(long2-long1))\n",
    "    return d\n"
   ]
  },
  {
   "cell_type": "code",
   "execution_count": 13,
   "metadata": {},
   "outputs": [],
   "source": [
    "def test_distance(): \n",
    "\n",
    "    assert distance(2.33, 48.86, 5.40, 43.30) == 661.86 \n",
    "    assert distance(2.33, 48.86, 2.33, 48.86) == 0.0 \n",
    "    assert distance(0.0, 0.0, 180.0, 0.0) == 20015.09\n",
    "\n",
    "    test_distance()\n"
   ]
  },
  {
   "cell_type": "markdown",
   "metadata": {
    "deletable": false,
    "editable": false
   },
   "source": [
    "#### Question 4 : Coordonnées d'une ville dans le tableau `villes`\n",
    "\n",
    "a) Ecrire une fonction `indexCity(ville, villes)` qui retourne la position (l'indice) de la `ville` passée en paramètre dans le tableau `villes`. Elle retournera `-1` si la ville passée en paramètre n'est pas dans le tableau. Cette information pourra être utilisée dans la suite pour trouver la longitude et la latitude d'une ville donnée par son nom.\n",
    "\n",
    "Par exemple, \n",
    "- l'instruction `indexCity(\"Paris\", villes)` retournera `0`,\n",
    "- l'instruction `indexCity(\"Clermont-Ferrand\",villes)` retournera  `18`,\n",
    "- et l'instruction `indexCity(\"Villetaneuse\",villes)` retournera  `-1`.\n",
    "\n",
    "b) Ecrire une fonction de tests unitaire permettant de vérifier cette fonction."
   ]
  },
  {
   "cell_type": "code",
   "execution_count": 14,
   "metadata": {
    "scrolled": true
   },
   "outputs": [],
   "source": [
    "def indexCity(ville, villes):\n",
    "    if ville in villes:\n",
    "        return villes.index(ville)\n",
    "    else:\n",
    "        return -1 \n"
   ]
  },
  {
   "cell_type": "code",
   "execution_count": 15,
   "metadata": {},
   "outputs": [],
   "source": [
    "def test_indexCity():\n",
    "    assert indexCity(\"Paris\", villes) == 0\n",
    "    assert indexCity(\"Clermont-Ferrand\", villes) == 18\n",
    "    assert indexCity(\"Villetaneuse\", villes) == -1\n",
    "    assert indexCity(\"Marseille\", villes) == 6\n",
    "\n",
    "test_indexCity()\n",
    "\n"
   ]
  },
  {
   "cell_type": "markdown",
   "metadata": {
    "deletable": false,
    "editable": false
   },
   "source": [
    "#### Question 5 : Distance entre deux villes données par leurs noms\n",
    "\n",
    "- Ecrire une fonction `distance_noms(nom1,nom2, villes)` qui calcule et retourne la distance entre deux villes $V_1$ et $V_2$ appelées `nom1` et `nom2` dans le tableau `villes`. La fonction retournera `-1` si une de ces villes n'est pas dans le tableau.\n",
    "- Ecrire une fonction de tests unitaires permettant de vérifier cette fonction."
   ]
  },
  {
   "cell_type": "code",
   "execution_count": 19,
   "metadata": {
    "scrolled": true
   },
   "outputs": [],
   "source": [
    "def distance_noms(nom1, nom2, villes): \n",
    "#variable de noms + recherche des indices des villes nom1 et nom2 à l’aide de la fonction indexCity \n",
    "    i1 = indexCity(nom1, villes)\n",
    "    i2 = indexCity(nom2, villes)\n",
    "\n",
    "    if i1 != -1 and i2 != -1: \n",
    "        long1, lat1 = villes[i1 + 1], villes[i1 + 2]\n",
    "        long2, lat2 = villes[i2 + 1], villes[i2 + 2]\n",
    "        \n",
    "#Si i1 ou i2 != -1, donc dans le tableau alors calcul de d avec les données\n",
    "        return distance(long1, lat1, long2, lat2)\n",
    "    else:\n",
    "        return -1\n"
   ]
  },
  {
   "cell_type": "code",
   "execution_count": 12,
   "metadata": {},
   "outputs": [
    {
     "name": "stdout",
     "output_type": "stream",
     "text": [
      "test de la fonction distance_noms : ok\n"
     ]
    }
   ],
   "source": [
    "def test_distance_noms():\n",
    "    assert math.isclose(distance_noms(\"Paris\",\"Marseille\",villes), 661.86) # Distance Paris - Marseille\n",
    "    assert math.isclose(distance_noms(\"Toulouse\", \"Grenoble\",villes), 383.4)\n",
    "    assert distance_noms(\"Paris\", \"Tokyo\", villes) == -1\n",
    "    print(\"test de la fonction distance_noms : ok\")\n",
    "\n",
    "test_distance_noms()"
   ]
  },
  {
   "cell_type": "markdown",
   "metadata": {
    "deletable": false,
    "editable": false
   },
   "source": [
    "#### Question 6 :  Lecture des villes d'une tournée à partir d'un fichier\n",
    "On suppose que les données sur les villes où doit se rendre le Père Noël réseau sont stockées dans un fichier CSV de la manière suivante :\n",
    "```\n",
    "ville1;longitude1;latitude1\n",
    "ville2;longitude2;latitude2\n",
    "ville3;longitude3;latitude3\n",
    "...\n",
    "```\n",
    "Autrement dit, chaque ligne du fichier contient le nom d'une ville, sa longitude et sa latitude en degrés décimaux, ces données étant séparées par des `';'`. Ces villes sont celles que le Père Noël doit desservir\n",
    "\n",
    "**NB** : Six fichiers CSV de ce type sont fournis dans le répertoire `files/`, il s'agit des fichiers `africa.csv`, `asia.csv`,`europe.csv`, `north-america`, `oceania.csv` and `south-america.csv`. \n",
    "Il est recommandé d'en fabriquer d'autres. \n",
    "\n",
    "- Ecrire une fonction `lecture_villes(path)` prenant en paramètre un chemin vers un tel fichier CSV et retournant un tableau contenant les informations sur les villes à visiter."
   ]
  },
  {
   "cell_type": "code",
   "execution_count": 21,
   "metadata": {
    "scrolled": true
   },
   "outputs": [],
   "source": [
    "\n",
    "import csv\n",
    "\n",
    "def lecture_villes(path):\n",
    "    villes_csv = []  # Utilisation d'un nom de tableau différent \n",
    "    with open(path, newline=' ') as csvfile: \n",
    "        lec = csv.reader(csvfile, delimiter=';')\n",
    "        for row in lec: \n",
    "            if len(row) == 3:\n",
    "                ville = row[0]\n",
    "                longitude = float(row[1])\n",
    "                latitude = float(row[2])\n",
    "                villes_csv.append(ville)\n",
    "                villes_csv.append(longitude)\n",
    "                villes_csv.append(latitude)\n",
    "    return villes_csv\n",
    "\n",
    "    \"\"\"\n",
    "Ouverture CSV\n",
    "+ fermeture du fichier après lecture \n",
    "+ itération à chaque ligne lu \n",
    "+ vérification de 3 éléments (càd villes, longitude et latitude) \n",
    "+ si possède ces 3 éléments transforme en flottant\n",
    "+ ajout dans le tableau villes csv \n",
    "+ répétitions de chaque villes\n",
    "    \"\"\"\n"
   ]
  },
  {
   "cell_type": "markdown",
   "metadata": {
    "deletable": false,
    "editable": false
   },
   "source": [
    "#### Question 7 : Longueur d'une tournée\n",
    "\n",
    "On considère que le Père Noël peut partir de n'importe laquelle des villes qu'il doit visiter et qu'il doit revenir à son point de départ à la fin de la tournée. Lors de sa tournée, il doit visiter chacune des villes dont les informations sont contenues dans le tableau `villes` une fois et une seule. \n",
    "\n",
    "On représente une tournée possible sous la forme d'un tableau `tournee` contenant le nom des villes dans l'ordre où le Père Noël les visitera sans oublier de revenir à la ville dont il est parti. \n",
    "\n",
    "L'objectif est de calculer la longueur d'une tournée. \n",
    "\n",
    "- Ecrire une fonction `long_tour(villes, tournee)` qui prend en paramètres le tableau `villes` contenant les informations sur les villes à visiter et le tableau `tournee` indiquant l'ordre dans lequel les villes sont visitées. La fonction retourne la longueur de la tournée correspondante.\n",
    "\n",
    "- Ecrire une fonction de tests unitaires permettant de vérifier cette fonction."
   ]
  },
  {
   "cell_type": "code",
   "execution_count": 28,
   "metadata": {},
   "outputs": [],
   "source": [
    "def long_tour(villes, tournee):\n",
    "    total_distance = 0.0\n",
    "    i = 0\n",
    "    while i < len(tournee) - 1:\n",
    "        lon1 = villes[tournee[i] * 3 + 1]\n",
    "        lat1 = villes[tournee[i] * 3 + 2]\n",
    "        lon2 = villes[tournee[i + 1] * 3 + 1]\n",
    "        lat2 = villes[tournee[i + 1] * 3 + 2] #de 3 en 3 +1 équivalent à la longitude +2 pour la latitude\n",
    "        distance = distance(lon1, lat1, lon2, lat2) #variable temporaire\n",
    "        total_distance += distance\n",
    "        i += 1\n",
    "\n",
    "    lon1 = villes[tournee[-1] * 3 + 1] # (-1) valeur des villes précédente \n",
    "    lat1 = villes[tournee[-1] * 3 + 2]\n",
    "    lon2 = villes[tournee[0] * 3 + 1] #Longitude 1ère ville\n",
    "    lat2 = villes[tournee[0] * 3 + 2]  #Latitude 1ère ville\n",
    "    distance = distance(lon1, lat1, lon2, lat2)\n",
    "    total_distance += distance\n",
    "\n",
    "    return total_distance\n"
   ]
  },
  {
   "cell_type": "code",
   "execution_count": 29,
   "metadata": {},
   "outputs": [],
   "source": [
    "def test_long_tour():\n",
    "    villes = [\"Paris\", 2.33, 48.86, \"Lyon\", 4.85, 45.75, \"Marseille\", 5.40, 43.30, \"Lille\", 3.06, 50.63]\n",
    "    tournee1 = [0, 1, 2, 3]\n",
    "    tournee2 = [2, 1, 0, 3]\n",
    "    tournee3 = [1, 2, 3, 0]\n",
    "    assert long_tour(villes, tournee1) == 1384.32\n",
    "    assert long_tour(villes, tournee2) == 1697.34\n",
    "    assert long_tour(villes, tournee3) == 1697.34\n",
    "\n",
    "    test_long_tour()\n"
   ]
  },
  {
   "cell_type": "markdown",
   "metadata": {},
   "source": []
  },
  {
   "cell_type": "markdown",
   "metadata": {
    "deletable": false,
    "editable": false
   },
   "source": [
    "#### Question 8 : Recherche d'une plus courte tournée \n",
    "\n",
    "Pour améliorer la longueur de la tournée, on peut essayer de changer l'ordre des villes aléatoirement. Pour une tournée donnée par un tableau `tournee` cela peut se faire avec la fonction `shuffle` de la bibliothèque `random` qui mélange aléatoirement les villes qui sont dans le tableau `tournee`, grâce à l'instruction  `shuffle(tournee)`, et ne retourne rien.\n",
    "\n",
    "- Utiliser cette fonction pour écrire un programme qui cherche une tournée plus courte à proposer au Père Noël. \n",
    "- Comment la solution s'améliore-t-elle en fonction de nombre de tentatives de mélange ? "
   ]
  },
  {
   "cell_type": "code",
   "execution_count": 31,
   "metadata": {},
   "outputs": [],
   "source": [
    "import random\n",
    "\n",
    "def recherche_tournee_plus_courte(villes, tournee, nombre_de_tentatives):\n",
    "    distance_i = long_tour(villes, tournee)\n",
    "    meilleure_tournee = tournee\n",
    "    meilleure_distance = distance_i\n",
    "    t = 0 #correspond au tentative\n",
    "\n",
    "    while t < nombre_de_tentatives:\n",
    "        random.shuffle(tournee)\n",
    "        distance = long_tour(villes, tournee)\n",
    "        if distance < meilleure_distance:\n",
    "            meilleure_tournee = tournee\n",
    "            meilleure_distance = distance\n",
    "        t += 1\n",
    "\n",
    "    return meilleure_tournee, meilleure_distance\n",
    "\n",
    "#La solution s’améliore puisque plus le nombre de tentatives est élevé plus l’algorithme a de chances de trouver une meilleur tournée\n"
   ]
  },
  {
   "cell_type": "code",
   "execution_count": 32,
   "metadata": {},
   "outputs": [
    {
     "data": {
      "text/plain": [
       "'\\nPlus le nombre de tentatives est élevé, plus il y a de chances de trouver une permutation qui minimise la longueur de la tournée.\\n'"
      ]
     },
     "execution_count": 32,
     "metadata": {},
     "output_type": "execute_result"
    }
   ],
   "source": [
    " \"\"\"\n",
    " Plus le nombre de tentatives est élevé, plus il y a de chances de trouver une permutation qui minimise la longueur de la tournée.\n",
    " \"\"\""
   ]
  },
  {
   "cell_type": "markdown",
   "metadata": {},
   "source": [
    "#### Question Bonus (facultative) : Visualisation de la tournée proposée au Père Noël \n",
    "\n",
    "Pour faciliter le travail du Père Noël, vous décidez de lui fournir une carte où est représentée la tournée sélectionnée. \n",
    "\n",
    "Pour cela, on peut (mais ce ne n'est qu'une suggestion) utiliser la bibliothèque [`folium`](https://python-visualization.github.io/folium/latest/getting_started.html). Vous pouvez également utiliser tout autre bibliothèque de votre choix.\n",
    "\n",
    "- Ecrire un programme permettant la visualisation de la tournée proposée au Père Noël"
   ]
  },
  {
   "cell_type": "code",
   "execution_count": null,
   "metadata": {
    "scrolled": true
   },
   "outputs": [],
   "source": []
  }
 ],
 "metadata": {
  "kernelspec": {
   "display_name": "base",
   "language": "python",
   "name": "python3"
  },
  "language_info": {
   "codemirror_mode": {
    "name": "ipython",
    "version": 3
   },
   "file_extension": ".py",
   "mimetype": "text/x-python",
   "name": "python",
   "nbconvert_exporter": "python",
   "pygments_lexer": "ipython3",
   "version": "3.11.5"
  },
  "latex_envs": {
   "LaTeX_envs_menu_present": true,
   "autoclose": false,
   "autocomplete": true,
   "bibliofile": "biblio.bib",
   "cite_by": "apalike",
   "current_citInitial": 1,
   "eqLabelWithNumbers": true,
   "eqNumInitial": 1,
   "hotkeys": {
    "equation": "Ctrl-E",
    "itemize": "Ctrl-I"
   },
   "labels_anchors": false,
   "latex_user_defs": false,
   "report_style_numbering": false,
   "user_envs_cfg": false
  }
 },
 "nbformat": 4,
 "nbformat_minor": 4
}
